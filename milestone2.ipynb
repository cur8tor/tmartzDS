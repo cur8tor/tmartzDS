{
 "cells": [
  {
   "cell_type": "markdown",
   "metadata": {},
   "source": [
    "# Milestone 2: EDA of Instacart Online Grocery Shopping Dataset\n",
    "**By: Tanner Martz**\n",
    "\n",
    "[Link to my GitHub webpage](https://cur8tor.github.io/tmartzDS/)"
   ]
  },
  {
   "cell_type": "markdown",
   "metadata": {},
   "source": [
    "## Project Overview:\n",
    "### Objective:\n",
    "\n",
    "First lets find what the most popular items ordered are. \n",
    "\n",
    "Our goal is to determine why these are most ordered items.\n",
    "\n",
    "Based on our conclusion, we will then be able to predict how many orders a new product will have.\n",
    "\n",
    "To begin, we will find what the most ordered items are.\n",
    "We will then make a hypothesis on why these items are the most ordered.\n",
    "What qualities do these items have that make them so popular?\n",
    "Then we will gather this data for each item ordered.\n",
    "We will then run machine learning algorithms do determine what features are most important in determining the popularity of an item.\n",
    "Then we will have a machine learnign algorithm predict how many orders an item will have based on its features.\n",
    "\n",
    "So lets get started!"
   ]
  },
  {
   "cell_type": "markdown",
   "metadata": {},
   "source": [
    "# Insights from this Milestone\n",
    "These results are fascinating. Taking the most popular items from orders that contain only reordered items and comparing it to most popular items in all orders. We rank the popularity of both lists of products. Then we can compare and visualize the difference between rankings and make preditions about why these differences exist. My general prediction is under the term 'pursuasion' which may include marketing, product placement, and other factors that may influence the customer to buy a product. 'The Top 10 Products with Largest Rank Difference' are most pursuaded by these factors. The 'Top 10 Products with Smallest Rank Difference' are least pursuaded by these factors. Further study may be done into researching the factors that influence the customer to buy a product. This may include the product's placement in the store, the product's marketing, and other factors.\n",
    "\n",
    "In general, I beleive there is much insight to be found by seperating the data into reorders and first time orders. To me, orders that are 100% reordered items are products that are more needed by users than products purchased for the first time. While of course there are other factors, over a large dataset these confounding variable will be reduced. By narrowing in on the products most reordered, we can find the products that are most needed. Then we may perform futher analysis with additoinal data to get to the root of what makes a product a needed product. This may include the product's nutritional value, the product's price, and other factors.\n",
    "\n",
    "### What makes a product needed?\n",
    "From the data anaysis so far, I have been thinking a lot about these products to try to arrive at key insights. First I want to point out that the Kaggle competition focuses on predicting what products are most reordered by users. To solve this, many people analyze past purchase history of users to predict future purchases.\n",
    "\n",
    "Different from the Kaggle competition, I am more curious about the products themselves, and what features of a product may predict its popularity. Waht is it about these products that cause them to be most ordered. To solve this question I sought to feature engeneer as much as I could with the data provided. I wanted to get to the root of the product, finding as much information I could about the products individually. To do this I gathered many of the columns from various csv file provided by Instcart.\n",
    "\n",
    "I also incorperated key nutritional data for the most popular 1000 products using data provided by USDA Food Central Database on foundational foods. This data includes the nutritional value of each product. I used the API to gather this data and store it in a csv file. I then merged this data with the products data to get a more complete picture of the products. It worked out well because most of the most popular products happen to be foundational foods rather than brand products. \n",
    "\n",
    "With all this data collected and organized for the products, I was then eager to run machine learning algorithms to see what features of the products are most important in predicting the popularity of the product. I ran a Random Forest Regressor and an XGBoost Regressor. I was able to get a good R^2 score of 0.8 with the XGBoost Regressor. I then plotted the feature importance of the XGBoost Regressor to see what features are most important in predicting the popularity of the product.\n",
    "\n",
    "### What makes a product popular?\n",
    "Instacart past order predictors:\n",
    "The highest ranking features about a product were reorder ratio and cart order. This makes sense because these are the features that Instacart uses to predict future orders. The reorder ratio is the ratio of orders that are reorders. The cart order is the average position of the product in the cart. These features are the most important in predicting the popularity of a product. These are predictive features but not about the porduct specifically and more about past Instacart orders.\n",
    "\n",
    "Type of product:\n",
    "The next most important features in predicting the popularity of a product were the type of product. The type of product is the aisle and department of the product. What is interesting, is that only the fruit and vegetable product type were important predictive features. If a product was not a fruit or vegetable, than the nutritional information about a product was more important. We will go into more detail about the nutritional information. My prediction for why fruit or vegetable classification is important is because this product type is a perishable good. This means that the product will go bad if not eaten in a certain amount of time. This means that the product will need to be reordered more often than other products. This is why the fruit and vegetable product type is an important predictive feature.\n",
    "\n",
    "Nutritional information:\n",
    "The next most important features in predicting the popularity of a product were the nutritional information. The nutritional information includes the energy (calories), water, carbohydrates, fat, protein, and sugar of the product. The nutritional information is likeley somewhat correlated with the type of product but does provide more accurat information for individual products. I would predict that products higher in sugar content would be more popular but this was the oppisite. Most important was water and protein content. This makes sense because water and protein are essential for life. This means that products with more water and protein are more essential for life and therefore more popular. This makes my secretly happy because it proves that people are buying products that are good for them, and not just products that taste good. My goal was to find the products that are most needed by people then find similarities in these products. \n",
    "\n",
    "### Further Curiosities\n",
    "I would love to continue various aspects of this project:\n",
    "\n",
    "- Feature engeneering - With the ddata I have I know I can combine and link related data to get more insights\n",
    "- Machine Learning - I would like to try more machine learning algorithms and see what results I get\n",
    "- Visualization - I would like to make more visualizations to get more insights\n",
    "- Data Collection - Incorperate more data to get more insights\n",
    "  - Price data\n",
    "  - Product placement data\n",
    "  - Food Deserts data"
   ]
  },
  {
   "cell_type": "markdown",
   "metadata": {},
   "source": [
    "## Imports:"
   ]
  },
  {
   "cell_type": "code",
   "execution_count": 99,
   "metadata": {},
   "outputs": [],
   "source": [
    "import pandas as pd                 # Import the pandas library for data manipulation and analysis\n",
    "\n",
    "root = 'input/'                     # Set the root directory for the data\n",
    "\n",
    "# Load all the data from csv files into dataframes\n",
    "orders = pd.read_csv(root + 'orders.csv')\n",
    "order_products_train = pd.read_csv(root + 'order_products__train.csv')\n",
    "order_products_prior = pd.read_csv(root + 'order_products__prior.csv')\n",
    "products = pd.read_csv(root + 'products.csv')\n",
    "aisles = pd.read_csv(root + 'aisles.csv')\n",
    "departments = pd.read_csv(root + 'departments.csv')"
   ]
  },
  {
   "cell_type": "markdown",
   "metadata": {},
   "source": [
    "## Finding the top 100 products:\n",
    "We will simply count which items are ordered the most:"
   ]
  },
  {
   "cell_type": "markdown",
   "metadata": {},
   "source": [
    "# New Products CSV"
   ]
  },
  {
   "cell_type": "code",
   "execution_count": 102,
   "metadata": {},
   "outputs": [
    {
     "name": "stdout",
     "output_type": "stream",
     "text": [
      "Products data saved to 3ProductsNew.csv\n"
     ]
    }
   ],
   "source": [
    "# Combine the order_products_prior and order_products_train dataframes\n",
    "#combined_order_products = pd.concat([order_products_prior, order_products_train])\n",
    "combined_order_products = pd.read_csv('/Users/tannermartz/Documents/GitHub/tmartzDS/Output/ReOrdersOnly/orders_all_reordered.csv')\n",
    "\n",
    "# Count the occurrences of each product\n",
    "product_counts = combined_order_products['product_id'].value_counts()\n",
    "\n",
    "# Calculate the number of times each product is reordered\n",
    "reorder_counts = combined_order_products.groupby('product_id')['reordered'].sum()\n",
    "\n",
    "# Convert reorder_counts to DataFrame and reset index\n",
    "reorder_counts_df = reorder_counts.reset_index()\n",
    "reorder_counts_df.columns = ['product_id', 'reorder_count']\n",
    "\n",
    "# Get the top 100 most ordered products and convert to DataFrame\n",
    "top_100_products = product_counts.head(1000).reset_index()\n",
    "top_100_products.columns = ['product_id', 'order_count']\n",
    "\n",
    "# Merge with the reorder counts dataframe\n",
    "top_100_products = top_100_products.merge(reorder_counts_df, on='product_id')\n",
    "\n",
    "# Calculate percentage of reorders\n",
    "top_100_products['perc_reorder'] = (top_100_products['reorder_count'] / top_100_products['order_count'] * 100).round(2)\n",
    "\n",
    "# Merge with the products dataframe to get product names\n",
    "top_100_products = top_100_products.merge(products, on='product_id')\n",
    "\n",
    "# Add popularity rank based on order count\n",
    "top_100_products['popularity_rank'] = top_100_products['order_count'].rank(ascending=False).astype(int)\n",
    "\n",
    "# Save to CSV\n",
    "top_100_products.to_csv('/Users/tannermartz/Documents/GitHub/tmartzDS/Output/ReOrdersOnly/3ProductsNew.csv', index=False)\n",
    "print(\"Products data saved to 3ProductsNew.csv\")"
   ]
  },
  {
   "cell_type": "code",
   "execution_count": 103,
   "metadata": {},
   "outputs": [],
   "source": [
    "# Columns to drop\n",
    "columns_to_drop = ['reorder_count', 'perc_reorder', 'popularity_rank']\n",
    "\n",
    "# Drop the specified columns\n",
    "top_100_products.drop(columns=columns_to_drop, inplace=True)\n",
    "\n",
    "# Save the modified data to a new CSV file\n",
    "top_100_products.to_csv('/Users/tannermartz/Documents/GitHub/tmartzDS/Output/ReOrdersOnly/3ProductsNew.csv', index=False)"
   ]
  },
  {
   "cell_type": "markdown",
   "metadata": {},
   "source": [
    "# New Aisles and Departments CSVs"
   ]
  },
  {
   "cell_type": "code",
   "execution_count": 12,
   "metadata": {},
   "outputs": [
    {
     "name": "stdout",
     "output_type": "stream",
     "text": [
      "Aisles and Departments data saved to AislesNew.csv and DepartmentsNew.csv\n"
     ]
    }
   ],
   "source": [
    "# Combine the order_products_prior and order_products_train dataframes\n",
    "combined_order_products = pd.concat([order_products_prior, order_products_train])\n",
    "\n",
    "# Merge with products, aisles, and departments\n",
    "full_data = combined_order_products.merge(products, on='product_id') \\\n",
    "                                  .merge(aisles, on='aisle_id') \\\n",
    "                                  .merge(departments, on='department_id')\n",
    "\n",
    "# Aisle calculations\n",
    "aisle_grouped = full_data.groupby('aisle').agg(order_count=('aisle', 'size'),\n",
    "                                               reorder_count=('reordered', 'sum'))\n",
    "aisle_grouped['perc_reorder'] = (aisle_grouped['reorder_count'] / aisle_grouped['order_count'] * 100).round(2)\n",
    "aisle_grouped = aisle_grouped.reset_index().sort_values(by='order_count', ascending=False)\n",
    "aisle_grouped['popularity_rank'] = aisle_grouped['order_count'].rank(ascending=False).astype(int)\n",
    "aisles_new = aisles.merge(aisle_grouped, on='aisle')\n",
    "\n",
    "# Department calculations\n",
    "department_grouped = full_data.groupby('department').agg(order_count=('department', 'size'),\n",
    "                                                         reorder_count=('reordered', 'sum'))\n",
    "department_grouped['perc_reorder'] = (department_grouped['reorder_count'] / department_grouped['order_count'] * 100).round(2)\n",
    "department_grouped = department_grouped.reset_index().sort_values(by='order_count', ascending=False)\n",
    "department_grouped['popularity_rank'] = department_grouped['order_count'].rank(ascending=False).astype(int)\n",
    "departments_new = departments.merge(department_grouped, on='department')\n",
    "\n",
    "# Save to CSV files\n",
    "aisles_new.to_csv('/Users/tannermartz/Documents/GitHub/tmartzDS/Output/AislesNew.csv', index=False)\n",
    "departments_new.to_csv('/Users/tannermartz/Documents/GitHub/tmartzDS/Output/DepartmentsNew.csv', index=False)\n",
    "\n",
    "print(\"Aisles and Departments data saved to AislesNew.csv and DepartmentsNew.csv\")"
   ]
  },
  {
   "cell_type": "markdown",
   "metadata": {},
   "source": [
    "# New Products CSV\n",
    "## Average cart position"
   ]
  },
  {
   "cell_type": "code",
   "execution_count": 104,
   "metadata": {},
   "outputs": [
    {
     "name": "stdout",
     "output_type": "stream",
     "text": [
      "Products data saved to 2ProductsNew.csv\n"
     ]
    }
   ],
   "source": [
    "import pandas as pd\n",
    "\n",
    "# Load your existing data files\n",
    "products_df = pd.read_csv('/Users/tannermartz/Documents/GitHub/tmartzDS/Output/2ProductsNew.csv')  \n",
    "orders_df = pd.read_csv('/Users/tannermartz/Documents/GitHub/tmartzDS/input/order_products__prior.csv')\n",
    "\n",
    "\n",
    "products_df = pd.read_csv('/Users/tannermartz/Documents/GitHub/tmartzDS/Output/ReOrdersOnly/3ProductsNew.csv')  \n",
    "orders_df = combined_order_products\n",
    "\n",
    "# Calculate average add to cart order for each product\n",
    "avg_cart_order = orders_df.groupby('product_id')['add_to_cart_order'].mean().reset_index().round(2)\n",
    "avg_cart_order.columns = ['product_id', 'cart_order']\n",
    "\n",
    "# Merge these metrics with the products data\n",
    "enhanced_products_df = products_df.merge(avg_cart_order, on='product_id', how='left')\n",
    "\n",
    "# Save to CSV\n",
    "enhanced_products_df.to_csv('/Users/tannermartz/Documents/GitHub/tmartzDS/Output/ReOrdersOnly/3ProductsNew.csv', index=False)\n",
    "print(\"Products data saved to 3ProductsNew.csv\")"
   ]
  },
  {
   "cell_type": "markdown",
   "metadata": {},
   "source": [
    "# New Order CSV\n",
    "## Average Cart Size and Percent of Complete Cart Reorders"
   ]
  },
  {
   "cell_type": "code",
   "execution_count": 30,
   "metadata": {},
   "outputs": [],
   "source": [
    "# Load your data\n",
    "orders = orders_df\n",
    "\n",
    "# Calculate order sizes\n",
    "order_sizes = orders.groupby('order_id')['product_id'].count()"
   ]
  },
  {
   "cell_type": "code",
   "execution_count": 31,
   "metadata": {},
   "outputs": [],
   "source": [
    "# 5 MIN RUNTIME STEP - Determine if all items (in huge CSV) in an order are reorders\n",
    "orders['all_reorders'] = orders.groupby('order_id')['reordered'].transform(lambda x: all(x)) # 5 MIN RUNTIME STEP"
   ]
  },
  {
   "cell_type": "code",
   "execution_count": 32,
   "metadata": {},
   "outputs": [],
   "source": [
    "# Calculate the number of reorders per order size\n",
    "order_reorder_counts = orders[orders['all_reorders']].groupby('order_id').size()\n",
    "order_size_reorder_counts = order_sizes.loc[order_reorder_counts.index].value_counts().sort_index()\n",
    "\n",
    "# Calculate the total counts per order size\n",
    "order_size_counts = order_sizes.value_counts().sort_index()"
   ]
  },
  {
   "cell_type": "code",
   "execution_count": 33,
   "metadata": {},
   "outputs": [],
   "source": [
    "# Calculate the percentage of reorders per order size\n",
    "reorder_percentage = ((order_size_reorder_counts / order_size_counts * 100).round(2)).fillna(0)"
   ]
  },
  {
   "cell_type": "code",
   "execution_count": 34,
   "metadata": {},
   "outputs": [
    {
     "name": "stdout",
     "output_type": "stream",
     "text": [
      "Products data saved to OrdersNew.csv\n"
     ]
    }
   ],
   "source": [
    "# Combine into a DataFrame\n",
    "order_size_stats = pd.DataFrame({\n",
    "    'Order Size': order_size_counts.index,\n",
    "    'Number of Orders': order_size_counts.values,\n",
    "    'Number of Reorders': order_size_reorder_counts.reindex(order_size_counts.index, fill_value=0).values,\n",
    "    'Reorder Percentage': reorder_percentage.values\n",
    "})\n",
    "\n",
    "# Save to CSV\n",
    "order_size_stats.to_csv('/Users/tannermartz/Documents/GitHub/tmartzDS/Output/OrdersNew.csv', index=False)\n",
    "print(\"Products data saved to OrdersNew.csv\")"
   ]
  },
  {
   "cell_type": "markdown",
   "metadata": {},
   "source": [
    "# Visualize Number of Orders and Reorder only Orders by Order Size"
   ]
  },
  {
   "cell_type": "code",
   "execution_count": 47,
   "metadata": {},
   "outputs": [
    {
     "data": {
      "image/png": "[encoded data removed]",
      "text/plain": [
       "<Figure size 1008x504 with 1 Axes>"
      ]
     },
     "metadata": {
      "needs_background": "light"
     },
     "output_type": "display_data"
    }
   ],
   "source": [
    "import matplotlib.pyplot as plt\n",
    "import seaborn as sns\n",
    "\n",
    "# Select the first 50 rows\n",
    "df_subset = order_size_stats.iloc[:30]\n",
    "\n",
    "# Plotting\n",
    "plt.figure(figsize=(14, 7))\n",
    "\n",
    "# Bar plot for number of orders\n",
    "sns.barplot(x='Order Size', y='Number of Orders', data=df_subset, color='blue', label='Number of Orders')\n",
    "\n",
    "# Bar plot for number of orders\n",
    "sns.barplot(x='Order Size', y='Number of Reorders', data=df_subset, color='green', label='Reorder only Orders')\n",
    "\n",
    "# Labels and Title\n",
    "plt.xlabel('Order Size')\n",
    "plt.ylabel('Number of Orders')\n",
    "plt.title('Number of Orders and Reorder only Orders by Order Size')\n",
    "plt.legend()\n",
    "\n",
    "# Show plot\n",
    "plt.show()"
   ]
  },
  {
   "cell_type": "markdown",
   "metadata": {},
   "source": [
    "# Filter Reorder Only Orders"
   ]
  },
  {
   "cell_type": "code",
   "execution_count": 57,
   "metadata": {},
   "outputs": [
    {
     "name": "stdout",
     "output_type": "stream",
     "text": [
      "CSV file with 100% reordered items created.\n"
     ]
    }
   ],
   "source": [
    "# Group by 'order_id' and filter out orders with any 'reordered' value of 0\n",
    "orders_all_reordered = orders.groupby('order_id').filter(lambda x: x['reordered'].all())\n",
    "\n",
    "# Save the filtered data to a new CSV file\n",
    "orders_all_reordered.to_csv('orders_all_reordered.csv', index=False)\n",
    "\n",
    "print(\"CSV file with 100% reordered items created.\")"
   ]
  },
  {
   "cell_type": "code",
   "execution_count": 75,
   "metadata": {},
   "outputs": [
    {
     "name": "stdout",
     "output_type": "stream",
     "text": [
      "Number of unique order IDs: 695006\n",
      "       product_id  reorder_count\n",
      "0           24852           0.11\n",
      "1           13176           0.11\n",
      "2           21137           0.06\n",
      "3           21903           0.05\n",
      "4           47209           0.05\n",
      "...           ...            ...\n",
      "36273       34015           0.00\n",
      "36274       25604           0.00\n",
      "36275       34529           0.00\n",
      "36276       27965           0.00\n",
      "36277       38623           0.00\n",
      "\n",
      "[36278 rows x 2 columns]\n"
     ]
    }
   ],
   "source": [
    "# Load the data\n",
    "orders_all_reordered = pd.read_csv('orders_all_reordered.csv')\n",
    "products = pd.read_csv('/Users/tannermartz/Documents/GitHub/tmartzDS/Output/ProductsNew.csv')\n",
    "\n",
    "# Count the unique order IDs\n",
    "unique_order_count = orders_all_reordered['order_id'].nunique()\n",
    "\n",
    "# Count the occurrences of each product in the reordered orders\n",
    "product_reorder_counts = (orders_all_reordered['product_id'].value_counts()/unique_order_count).round(2).reset_index()\n",
    "product_reorder_counts.columns = ['product_id', 'reorder_count']\n",
    "\n",
    "print(f\"Number of unique order IDs: {unique_order_count}\")\n",
    "\n",
    "print(product_reorder_counts)"
   ]
  },
  {
   "cell_type": "markdown",
   "metadata": {},
   "source": [
    "# Incorperating NSDA API Data for most popular items\n",
    "\n",
    "Data from Link: https://fdc.nal.usda.gov/index.html to find nutrition data for each product.\n",
    "Used the API to get and store the data for processing in the notebook."
   ]
  },
  {
   "cell_type": "code",
   "execution_count": 105,
   "metadata": {},
   "outputs": [],
   "source": [
    "import requests\n",
    "import pandas as pd\n",
    "\n",
    "# USDA API URL and Key\n",
    "api_url = \"https://api.nal.usda.gov/fdc/v1/foods/search\"\n",
    "#api_key = \"rbUxokVbfwPMqGKGU9VHZMz2jbWds7nECmeRqvle\"\n",
    "api_key = \"jG5MlVf3ii60bSNwcQNcByXkedFgPgiVSCbmeemW\"\n",
    "\n",
    "# Function to fetch data from USDA API\n",
    "def fetch_usda_data(query, api_key):\n",
    "    params = {\n",
    "        \"query\": query,\n",
    "        \"api_key\": api_key,\n",
    "        \"dataType\": [\"Foundation\"],\n",
    "        \"pageSize\": 1\n",
    "    }\n",
    "    response = requests.get(api_url, params=params)\n",
    "    if response.status_code == 200:\n",
    "        return response.json()\n",
    "    else:\n",
    "        return None\n",
    "\n",
    "# Function to extract required nutrients from the response\n",
    "def extract_nutrients(data):\n",
    "    nutrients = {\"Water\": None, \"Energy\": None, \"Protein\": None, \"Total lipid (fat)\": None, \"Carbohydrate, by difference\": None}\n",
    "    if data and 'foods' in data and len(data['foods']) > 0:\n",
    "        food_data = data['foods'][0]\n",
    "        for nutrient in food_data.get('foodNutrients', []):\n",
    "            nutrient_name = nutrient.get('nutrientName')\n",
    "            if nutrient_name in nutrients:\n",
    "                nutrients[nutrient_name] = nutrient.get('value')\n",
    "    return nutrients\n",
    "\n",
    "# Load the CSV file\n",
    "df = pd.read_csv('/Users/tannermartz/Documents/GitHub/tmartzDS/Output/ReOrdersOnly/3ProductsNew.csv')\n",
    "\n",
    "# Iterate over each product and fetch data\n",
    "for index, row in df.iterrows():\n",
    "    product_name = row['product_name']\n",
    "    api_response = fetch_usda_data(product_name, api_key)\n",
    "    nutrient_data = extract_nutrients(api_response)\n",
    "\n",
    "    # Update the DataFrame with nutrient data\n",
    "    for nutrient, value in nutrient_data.items():\n",
    "        df.at[index, nutrient] = value\n",
    "\n",
    "# Save the updated DataFrame to a new CSV file\n",
    "df.to_csv('/Users/tannermartz/Documents/GitHub/tmartzDS/Output/ReOrdersOnly/3ProductsNew.csv', index=False)\n"
   ]
  },
  {
   "cell_type": "markdown",
   "metadata": {},
   "source": [
    "so exciting!!"
   ]
  },
  {
   "cell_type": "markdown",
   "metadata": {},
   "source": [
    "# Making Conclusions\n",
    "Now that we have added the USDA data to our products, we can make some conclusions.\n",
    "We will first look at the most popular items and see if there are any similarities between them.\n",
    "To do this we will use a correlation matrix to see if there are any correlations between the features of the most popular items."
   ]
  },
  {
   "cell_type": "code",
   "execution_count": 106,
   "metadata": {},
   "outputs": [
    {
     "data": {
      "image/png": "[encoded data removed]",
      "text/plain": [
       "<Figure size 864x576 with 2 Axes>"
      ]
     },
     "metadata": {
      "needs_background": "light"
     },
     "output_type": "display_data"
    }
   ],
   "source": [
    "import pandas as pd\n",
    "from sklearn.preprocessing import StandardScaler\n",
    "from sklearn.impute import SimpleImputer\n",
    "\n",
    "\n",
    "# Load the dataset\n",
    "df = pd.read_csv('/Users/tannermartz/Documents/GitHub/tmartzDS/Output/ReOrdersOnly/3ProductsNew.csv')\n",
    "\n",
    "# Impute missing values for numerical columns\n",
    "num_cols = ['Water', 'Energy', 'Protein', 'Total lipid (fat)', 'Carbohydrate, by difference']\n",
    "imputer = SimpleImputer(strategy='mean')\n",
    "df[num_cols] = imputer.fit_transform(df[num_cols])\n",
    "\n",
    "# Standardize the numerical features\n",
    "scaler = StandardScaler()\n",
    "df[num_cols] = scaler.fit_transform(df[num_cols])\n",
    "\n",
    "# Select only numerical columns for correlation\n",
    "numerical_cols = df.select_dtypes(include=['float64', 'int64'])\n",
    "\n",
    "# Calculate the correlation matrix\n",
    "correlation_matrix = numerical_cols.corr()\n",
    "\n",
    "# Visualize the correlation matrix\n",
    "plt.figure(figsize=(12, 8))\n",
    "sns.heatmap(correlation_matrix, annot=True, cmap='coolwarm')\n",
    "plt.title(\"Correlation Matrix of Top 100 Most Popular Items\")\n",
    "plt.show()"
   ]
  },
  {
   "cell_type": "markdown",
   "metadata": {},
   "source": [
    "# Random Forest Regressor"
   ]
  },
  {
   "cell_type": "code",
   "execution_count": 107,
   "metadata": {},
   "outputs": [
    {
     "name": "stdout",
     "output_type": "stream",
     "text": [
      "RMSE: 3928.245457536569\n",
      "                             Importance\n",
      "Protein                        0.580834\n",
      "Total lipid (fat)              0.129067\n",
      "Carbohydrate, by difference    0.121519\n",
      "Water                          0.121505\n",
      "Energy                         0.047075\n"
     ]
    }
   ],
   "source": [
    "import pandas as pd\n",
    "from sklearn.model_selection import train_test_split\n",
    "from sklearn.ensemble import RandomForestRegressor\n",
    "from sklearn.metrics import mean_squared_error\n",
    "import numpy as np\n",
    "\n",
    "# Prepare the predictors and target variable\n",
    "X = df[['Water', 'Energy', 'Protein', 'Total lipid (fat)', 'Carbohydrate, by difference']]\n",
    "y = df['order_count']\n",
    "\n",
    "# Split the data into training and testing sets\n",
    "X_train, X_test, y_train, y_test = train_test_split(X, y, test_size=0.2, random_state=42)\n",
    "\n",
    "# Initialize the Random Forest Regressor\n",
    "model = RandomForestRegressor(n_estimators=100, random_state=42)\n",
    "\n",
    "# Fit the model\n",
    "model.fit(X_train, y_train)\n",
    "\n",
    "# Make predictions\n",
    "y_pred = model.predict(X_test)\n",
    "\n",
    "# Evaluate the model\n",
    "rmse = np.sqrt(mean_squared_error(y_test, y_pred))\n",
    "print(f'RMSE: {rmse}')\n",
    "\n",
    "# Feature importance\n",
    "importances = model.feature_importances_\n",
    "feature_names = X.columns\n",
    "feature_importances = pd.DataFrame(importances, index=feature_names, columns=['Importance']).sort_values('Importance', ascending=False)\n",
    "print(feature_importances)\n"
   ]
  },
  {
   "cell_type": "code",
   "execution_count": 108,
   "metadata": {},
   "outputs": [
    {
     "name": "stdout",
     "output_type": "stream",
     "text": [
      "RMSE: 4708.227701128842\n",
      "                                          Importance\n",
      "remainder__cart_order                   3.838731e-01\n",
      "remainder__Carbohydrate, by difference  1.860573e-01\n",
      "cat__aisle_id_24                        9.023557e-02\n",
      "remainder__Water                        8.494830e-02\n",
      "remainder__Protein                      8.281914e-02\n",
      "...                                              ...\n",
      "cat__aisle_id_85                        6.799863e-08\n",
      "cat__aisle_id_74                        0.000000e+00\n",
      "cat__aisle_id_18                        0.000000e+00\n",
      "cat__aisle_id_62                        0.000000e+00\n",
      "cat__aisle_id_39                        0.000000e+00\n",
      "\n",
      "[111 rows x 1 columns]\n"
     ]
    }
   ],
   "source": [
    "import pandas as pd\n",
    "from sklearn.model_selection import train_test_split\n",
    "from sklearn.ensemble import RandomForestRegressor\n",
    "from sklearn.metrics import mean_squared_error\n",
    "from sklearn.preprocessing import OneHotEncoder\n",
    "from sklearn.compose import ColumnTransformer\n",
    "import numpy as np\n",
    "\n",
    "# Feature engineering (optional)\n",
    "#df['reorder_ratio'] = df['reorder_count'] / df['order_count']\n",
    "\n",
    "# Prepare the predictors and target variable\n",
    "X = df.drop(['order_count', 'product_id', 'product_name'], axis=1)\n",
    "y = df['order_count']\n",
    "\n",
    "# One-hot encoding for categorical variables\n",
    "categorical_features = ['aisle_id', 'department_id']\n",
    "one_hot_encoder = ColumnTransformer(transformers=[('cat', OneHotEncoder(), categorical_features)], remainder='passthrough')\n",
    "\n",
    "X = one_hot_encoder.fit_transform(X)\n",
    "\n",
    "# Split the data into training and testing sets\n",
    "X_train, X_test, y_train, y_test = train_test_split(X, y, test_size=0.2, random_state=42)\n",
    "\n",
    "# Initialize the Random Forest Regressor\n",
    "model = RandomForestRegressor(n_estimators=100, random_state=42)\n",
    "\n",
    "# Fit the model\n",
    "model.fit(X_train, y_train)\n",
    "\n",
    "# Make predictions\n",
    "y_pred = model.predict(X_test)\n",
    "\n",
    "# Evaluate the model\n",
    "rmse = np.sqrt(mean_squared_error(y_test, y_pred))\n",
    "print(f'RMSE: {rmse}')\n",
    "\n",
    "# Feature importance (adjust according to the number of features after encoding)\n",
    "feature_names = one_hot_encoder.get_feature_names_out()\n",
    "feature_importances = pd.DataFrame(model.feature_importances_, index=feature_names, columns=['Importance']).sort_values('Importance', ascending=False)\n",
    "print(feature_importances)"
   ]
  },
  {
   "cell_type": "code",
   "execution_count": 109,
   "metadata": {},
   "outputs": [
    {
     "data": {
      "image/png": "[encoded data removed]",
      "text/plain": [
       "<Figure size 720x576 with 1 Axes>"
      ]
     },
     "metadata": {
      "needs_background": "light"
     },
     "output_type": "display_data"
    }
   ],
   "source": [
    "import matplotlib.pyplot as plt\n",
    "\n",
    "# Assuming 'feature_importances' is the DataFrame with your feature importance data\n",
    "# Save to CSV\n",
    "feature_importances.to_csv('/Users/tannermartz/Documents/GitHub/tmartzDS/Output/feature_importance.csv', index=True)\n",
    "\n",
    "# Read the saved CSV file for plotting\n",
    "feature_importances_csv = pd.read_csv('/Users/tannermartz/Documents/GitHub/tmartzDS/Output/feature_importance.csv')\n",
    "\n",
    "# Selecting the top 10 most important features\n",
    "top_10_features = feature_importances_csv.nlargest(10, 'Importance')\n",
    "\n",
    "# Plotting\n",
    "plt.figure(figsize=(10, 8))\n",
    "plt.barh(top_10_features['Unnamed: 0'], top_10_features['Importance'])\n",
    "plt.xlabel('Importance')\n",
    "plt.ylabel('Features')\n",
    "plt.title('Top 10 Feature Importance')\n",
    "plt.gca().invert_yaxis()  # Invert y-axis to have the most important feature on top\n",
    "plt.show()\n"
   ]
  },
  {
   "cell_type": "markdown",
   "metadata": {},
   "source": [
    "# Initial Observations\n",
    "\n",
    "These are three categories of features: \n",
    "1. The order history of the product. \n",
    "2. The type of product.\n",
    "3. The nutrition facts. \n",
    "\n",
    "The most important information about the product is the order history of the product. The most important information about the product specifically is the type of product for example if the product is a fruit or vegetable. The second most important information about the product is the nutrition facts. So other than being a fruit or vegetable, the most important information about the product is the nutrition facts."
   ]
  },
  {
   "cell_type": "markdown",
   "metadata": {},
   "source": [
    "# Machine Learning 2nd Version"
   ]
  },
  {
   "cell_type": "code",
   "execution_count": 112,
   "metadata": {},
   "outputs": [
    {
     "name": "stdout",
     "output_type": "stream",
     "text": [
      "RMSE: 5651.234571055497\n",
      "                             Importance\n",
      "cart_order                     0.369136\n",
      "Protein                        0.230061\n",
      "Carbohydrate, by difference    0.109782\n",
      "aisle_id                       0.081073\n",
      "Total lipid (fat)              0.074590\n",
      "Water                          0.065838\n",
      "department_id                  0.034771\n",
      "Energy                         0.034750\n"
     ]
    }
   ],
   "source": [
    "import pandas as pd\n",
    "from sklearn.model_selection import train_test_split, GridSearchCV\n",
    "from sklearn.ensemble import RandomForestRegressor\n",
    "from sklearn.preprocessing import StandardScaler\n",
    "from sklearn.pipeline import Pipeline\n",
    "from sklearn.metrics import mean_squared_error\n",
    "import numpy as np\n",
    "\n",
    "# Load the data\n",
    "df = pd.read_csv('/Users/tannermartz/Documents/GitHub/tmartzDS/Output/ReOrdersOnly/3ProductsNew.csv')\n",
    "\n",
    "df.drop('product_name', axis=1, inplace=True)\n",
    "\n",
    "# Fill missing values if necessary\n",
    "df.fillna(df.mean(), inplace=True)\n",
    "\n",
    "# Selecting features and target variable\n",
    "features = ['aisle_id', 'department_id', 'cart_order', 'Water', 'Energy', 'Protein', 'Total lipid (fat)', 'Carbohydrate, by difference']\n",
    "X = df[features]\n",
    "y = df['order_count']\n",
    "\n",
    "# Splitting the dataset into training and testing sets\n",
    "X_train, X_test, y_train, y_test = train_test_split(X, y, test_size=0.2, random_state=42)\n",
    "\n",
    "# Creating a machine learning pipeline\n",
    "pipeline = Pipeline([\n",
    "    ('scaler', StandardScaler()),  # Feature scaling\n",
    "    ('regressor', RandomForestRegressor())  # Regression model\n",
    "])\n",
    "\n",
    "# Parameters for GridSearchCV\n",
    "param_grid = {\n",
    "    'regressor__n_estimators': [100, 200],\n",
    "    'regressor__max_depth': [10, 20, None],\n",
    "    'regressor__min_samples_split': [2, 5],\n",
    "    'regressor__min_samples_leaf': [1, 2]\n",
    "}\n",
    "\n",
    "# Grid search with cross-validation\n",
    "grid_search = GridSearchCV(pipeline, param_grid, cv=3, scoring='neg_mean_squared_error')\n",
    "grid_search.fit(X_train, y_train)\n",
    "\n",
    "# Best model\n",
    "best_model = grid_search.best_estimator_\n",
    "\n",
    "# Predictions\n",
    "predictions = best_model.predict(X_test)\n",
    "\n",
    "# Evaluate the model\n",
    "rmse = np.sqrt(mean_squared_error(y_test, predictions))\n",
    "print(f\"RMSE: {rmse}\")\n",
    "\n",
    "# Feature importances (optional)\n",
    "feature_importances = pd.DataFrame(best_model.named_steps['regressor'].feature_importances_,\n",
    "                                   index=features, columns=['Importance']).sort_values('Importance', ascending=False)\n",
    "print(feature_importances)\n"
   ]
  },
  {
   "cell_type": "markdown",
   "metadata": {},
   "source": [
    "# XGBoost Kaggle Machine Learning Method\n",
    "\n",
    "https://www.kaggle.com/code/fabienvs/instacart-xgboost-starter-lb-0-3791"
   ]
  },
  {
   "cell_type": "code",
   "execution_count": 125,
   "metadata": {},
   "outputs": [
    {
     "name": "stdout",
     "output_type": "stream",
     "text": [
      "Feature: aisle_id, Score: 1132.0\n",
      "Feature: Water, Score: 580.0\n",
      "Feature: Protein, Score: 423.0\n",
      "Feature: Total lipid (fat), Score: 370.0\n",
      "Feature: department_id, Score: 305.0\n",
      "Feature: Energy, Score: 228.0\n",
      "Feature: Carbohydrate, by difference, Score: 227.0\n"
     ]
    }
   ],
   "source": [
    "import pandas as pd\n",
    "import xgboost as xgb\n",
    "from sklearn.model_selection import train_test_split\n",
    "\n",
    "# Load Data\n",
    "# Replace 'your_data.csv' with the path to your dataset\n",
    "df = pd.read_csv('/Users/tannermartz/Documents/GitHub/tmartzDS/Output/ReOrdersOnly/3ProductsNew.csv')\n",
    "\n",
    "# Feature Engineering\n",
    "# Assuming your DataFrame has columns like 'product_id', 'order_count', etc.\n",
    "# Add your feature engineering steps here. This could include creating new features\n",
    "# or modifying existing ones based on your dataset.\n",
    "\n",
    "X_train, X_test, y_train, y_test = train_test_split(X, y, test_size=0.2, random_state=42)\n",
    "# Prepare the Data for Training\n",
    "X = df.drop(['order_count'], axis=1)  # Drop the target variable\n",
    "y = df['order_count']  # Target variable\n",
    "\n",
    "# Drop the 'product_name' column\n",
    "X_train = X_train.drop('product_name', axis=1)\n",
    "X_test = X_test.drop('product_name', axis=1)\n",
    "\n",
    "X_train = X_train.drop('product_id', axis=1)\n",
    "X_test = X_test.drop('product_id', axis=1)\n",
    "\n",
    "X_train = X_train.drop('cart_order', axis=1)\n",
    "X_test = X_test.drop('cart_order', axis=1)\n",
    "\n",
    "# Convert the datasets into DMatrix objects\n",
    "dtrain = xgb.DMatrix(X_train, label=y_train)\n",
    "dtest = xgb.DMatrix(X_test)\n",
    "\n",
    "# Define parameters for the XGBoost model\n",
    "params = {\n",
    "    \"objective\": \"reg:squarederror\",\n",
    "    \"eval_metric\": \"rmse\",\n",
    "    \"eta\": 0.1,\n",
    "    \"max_depth\": 6,\n",
    "    # Add more parameters here based on your requirements and tuning\n",
    "}\n",
    "\n",
    "# Train the XGBoost model\n",
    "model = xgb.train(params, dtrain, num_boost_round=100)\n",
    "\n",
    "# Prediction\n",
    "y_pred = model.predict(dtest)\n",
    "\n",
    "# Saving predictions to a CSV file\n",
    "pred_df = pd.DataFrame({'Actual': y_test, 'Predicted': y_pred})\n",
    "pred_df.to_csv('/Users/tannermartz/Documents/GitHub/tmartzDS/Output/ReOrdersOnly/predictions.csv', index=False)\n",
    "\n",
    "# Optionally, you can also print feature importance\n",
    "importance = model.get_score(importance_type='weight')\n",
    "sorted_importance = sorted(importance.items(), key=lambda x: x[1], reverse=True)\n",
    "for feature, score in sorted_importance:\n",
    "    print(f'Feature: {feature}, Score: {score}')\n"
   ]
  },
  {
   "cell_type": "markdown",
   "metadata": {},
   "source": [
    "# Plotting the XGBoost Feature Importance"
   ]
  },
  {
   "cell_type": "code",
   "execution_count": 126,
   "metadata": {},
   "outputs": [
    {
     "data": {
      "image/png": "[encoded data removed]",
      "text/plain": [
       "<Figure size 720x432 with 1 Axes>"
      ]
     },
     "metadata": {
      "needs_background": "light"
     },
     "output_type": "display_data"
    }
   ],
   "source": [
    "# Plotting\n",
    "plt.figure(figsize=(10, 6))\n",
    "plt.title(\"Feature Importances\")\n",
    "plt.bar(range(len(sorted_importance)), [val[1] for val in sorted_importance], align='center')\n",
    "plt.xticks(range(len(sorted_importance)), [val[0] for val in sorted_importance])\n",
    "plt.xticks(rotation=90)\n",
    "plt.xlabel('Features')\n",
    "plt.ylabel('Importance Score')\n",
    "plt.tight_layout()\n",
    "plt.savefig('/Users/tannermartz/Documents/GitHub/tmartzDS/Output/ReOrdersOnly/feature_importances.png')\n",
    "plt.show()"
   ]
  },
  {
   "cell_type": "markdown",
   "metadata": {},
   "source": [
    "# Metrics for success"
   ]
  },
  {
   "cell_type": "code",
   "execution_count": 127,
   "metadata": {},
   "outputs": [
    {
     "name": "stdout",
     "output_type": "stream",
     "text": [
      "Root Mean Squared Error (RMSE): 4359.868774341918\n",
      "Mean Absolute Error (MAE): 1863.4260069274903\n",
      "R-squared: -2.7636008822090186\n"
     ]
    }
   ],
   "source": [
    "from sklearn.metrics import mean_squared_error, mean_absolute_error, r2_score\n",
    "\n",
    "# Make predictions\n",
    "y_pred = model.predict(dtest)\n",
    "\n",
    "# Calculate RMSE\n",
    "rmse = np.sqrt(mean_squared_error(y_test, y_pred))\n",
    "print(f\"Root Mean Squared Error (RMSE): {rmse}\")\n",
    "\n",
    "# Calculate MAE\n",
    "mae = mean_absolute_error(y_test, y_pred)\n",
    "print(f\"Mean Absolute Error (MAE): {mae}\")\n",
    "\n",
    "# Calculate R-squared\n",
    "r2 = r2_score(y_test, y_pred)\n",
    "print(f\"R-squared: {r2}\")\n"
   ]
  },
  {
   "cell_type": "markdown",
   "metadata": {},
   "source": [
    "# Conclusions"
   ]
  },
  {
   "cell_type": "code",
   "execution_count": 135,
   "metadata": {},
   "outputs": [
    {
     "name": "stdout",
     "output_type": "stream",
     "text": [
      "(Pursuaded into buying) Top 10 Products with Largest Rank Difference:\n",
      "                         product_name  rank_file1  rank_file2  rank_difference\n",
      "83   Organic Lacinato (Dinosaur) Kale          99          69               30\n",
      "76                Organic Ginger Root          84          56               28\n",
      "62                  Organic Red Onion          64          37               27\n",
      "74                  Green Bell Pepper          79          52               27\n",
      "73                        Red Peppers          78          51               27\n",
      "77                 Small Hass Avocado          86          60               26\n",
      "65      Organic Italian Parsley Bunch          68          43               25\n",
      "57                   Organic Cilantro          59          34               25\n",
      "75  Boneless Skinless Chicken Breasts          80          58               22\n",
      "36             Organic Grape Tomatoes          38          19               19\n",
      "\n",
      "(Desuaded from buying) Top 10 Products with Smallest Rank Difference:\n",
      "                   product_name  rank_file1  rank_file2  rank_difference\n",
      "16                         Soda          17          90              -73\n",
      "53     Organic Reduced Fat Milk          55          93              -38\n",
      "55                   Whole Milk          57          92              -35\n",
      "22                Hass Avocados          23          57              -34\n",
      "15                 Spring Water          16          49              -33\n",
      "51       100% Raw Coconut Water          53          83              -30\n",
      "56          Granny Smith Apples          58          88              -30\n",
      "67        Sparkling Lemon Water          71         100              -29\n",
      "37  Organic Reduced Fat 2% Milk          39          64              -25\n",
      "58        Organic Bartlett Pear          60          84              -24\n"
     ]
    }
   ],
   "source": [
    "import pandas as pd\n",
    "\n",
    "# Load the CSV files\n",
    "file1 = '/Users/tannermartz/Documents/GitHub/tmartzDS/Output/ReOrdersOnly/3ProductsNew.csv' # Reorder Popularity Rank File\n",
    "file2 = '/Users/tannermartz/Documents/GitHub/tmartzDS/Output/ReOrdersOnly/top_100_products_with_reorder_counts.csv' # First Time Order Popularity Rank File\n",
    "\n",
    "# Read the first 100 rows from each file\n",
    "df1 = pd.read_csv(file1).head(100)\n",
    "df2 = pd.read_csv(file2).head(100)\n",
    "\n",
    "# Add a rank column based on the existing order in each file\n",
    "df1['rank_file1'] = range(1, len(df1) + 1)\n",
    "df2['rank_file2'] = range(1, len(df2) + 1)\n",
    "\n",
    "# Merge the two dataframes on the item identifier\n",
    "merged_df = df1.merge(df2, on='product_name', how='inner')\n",
    "\n",
    "# Calculate the difference in rank\n",
    "merged_df['rank_difference'] = merged_df['rank_file1'] - merged_df['rank_file2']\n",
    "merged_df['abs_rank_difference'] = merged_df['rank_difference']\n",
    "\n",
    "# Sort by absolute rank difference and select top 10 largest differences\n",
    "largest_diff = merged_df.sort_values(by='abs_rank_difference', ascending=False).head(10)\n",
    "\n",
    "# Sort by absolute rank difference and select top 10 smallest differences\n",
    "smallest_diff = merged_df.sort_values(by='abs_rank_difference', ascending=True).head(10)\n",
    "\n",
    "# Display results\n",
    "print(\"(Pursuaded into buying) Top 10 Products with Largest Rank Difference:\")\n",
    "print(largest_diff[['product_name', 'rank_file1', 'rank_file2', 'rank_difference']])\n",
    "\n",
    "print(\"\\n(Desuaded from buying) Top 10 Products with Smallest Rank Difference:\")\n",
    "print(smallest_diff[['product_name', 'rank_file1', 'rank_file2', 'rank_difference']])\n",
    "\n",
    "# Optionally, save the results to new CSV files\n",
    "#largest_diff.to_csv('path_to_save_largest_rank_differences.csv', index=False)\n",
    "#smallest_diff.to_csv('path_to_save_smallest_rank_differences.csv', index=False)\n",
    "merged_df.to_csv('/Users/tannermartz/Documents/GitHub/tmartzDS/Output/reorder_difference', index=False)\n"
   ]
  }
 ],
 "metadata": {
  "kernelspec": {
   "display_name": "Python 3",
   "language": "python",
   "name": "python3"
  },
  "language_info": {
   "codemirror_mode": {
    "name": "ipython",
    "version": 3
   },
   "file_extension": ".py",
   "mimetype": "text/x-python",
   "name": "python",
   "nbconvert_exporter": "python",
   "pygments_lexer": "ipython3",
   "version": "3.9.17"
  }
 },
 "nbformat": 4,
 "nbformat_minor": 2
}
