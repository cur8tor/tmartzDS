{
 "cells": [
  {
   "cell_type": "markdown",
   "metadata": {},
   "source": [
    "# Analysis of Content Evolution on Wikipedia\n",
    "**By: Tanner Martz**\n",
    "\n",
    "[Link to our GitHub webpage](https://wikipediacontentanalysis.github.io)"
   ]
  },
  {
   "cell_type": "markdown",
   "metadata": {},
   "source": [
    "## Project Goals\n",
    "Our primary objective is to examine the evolution and growth of content on Wikipedia. We aim to understand:\n",
    "1. How article length and references have changed over time.\n",
    "2. The growth rate of multimedia (images, videos) within articles.\n",
    "3. User collaboration patterns in editing Wikipedia articles."
   ]
  },
  {
   "cell_type": "markdown",
   "metadata": {},
   "source": [
    "## Project Dataset\n",
    "We will harness the [Wikipedia's Revision History dataset](https://datasets.wikimedia.org/revision-history/). This dataset provides a comprehensive log of edits made to Wikipedia articles. From this, we can glean insights about content evolution, user collaboration, and overall growth patterns of Wikipedia articles.\n",
    "\n",
    "Additionally, to understand multimedia growth, we will explore the [Wikipedia's Multimedia dataset](https://datasets.wikimedia.org/multimedia/). This will allow us to quantify the integration and relevance of multimedia content in Wikipedia articles over the years."
   ]
  },
  {
   "cell_type": "markdown",
   "metadata": {},
   "source": [
    "## Collaboration Plan\n",
    "Our team will convene on a bi-weekly basis via Zoom to review findings, align on next steps, and address any challenges. We'll utilize GitHub for version control and collaboration. Our immediate plan includes:\n",
    "- Week 1-2: Data extraction and preliminary cleaning.\n",
    "- Week 3-4: Initial analysis and visualization of findings for content growth."
   ]
  },
  {
   "cell_type": "markdown",
   "metadata": {},
   "source": [
    "## ETL (Extraction, Transform, and Load)\n",
    "We've initiated the process by extracting a subset of the Wikipedia Revision History dataset. The dataset includes article titles, timestamps, user IDs, and edit sizes. We intend to transform this data by consolidating edits by month and year to understand content evolution patterns."
   ]
  },
  {
   "cell_type": "markdown",
   "metadata": {},
   "source": [
    "## Preliminary Dataset View \n",
    "Following is a preliminary view of our dataset, showcasing how Wikipedia content has evolved over a specific timeframe:"
   ]
  },
  {
   "cell_type": "code",
   "execution_count": null,
   "metadata": {},
   "outputs": [],
   "source": [
    "import pandas as pd\n",
    "wiki_df = pd.read_csv('https://sample.wikipedia.revision.history.csv')\n",
    "wiki_df.head()"
   ]
  },
  {
   "cell_type": "markdown",
   "metadata": {},
   "source": [
    "## Next Steps\n",
    "Our immediate next steps involve:\n",
    "1. Data cleaning: Handling missing values and outliers in the dataset.\n",
    "2. Exploratory Analysis: Understanding the distribution and growth pattern of edits.\n",
    "3. Multimedia Analysis: Examining the integration rate of multimedia content in articles."
   ]
  }
 ],
 "metadata": {
  "kernelspec": {
   "display_name": "Python 3",
   "language": "python",
   "name": "python3"
  },
  "language_info": {
   "codemirror_mode": {
    "name": "ipython",
    "version": 3
   },
   "file_extension": ".py",
   "mimetype": "text/x-python",
   "name": "python",
   "nbconvert_exporter": "python",
   "pygments_lexer": "ipython3",
   "version": "3.8.8"
  }
 },
 "nbformat": 4,
 "nbformat_minor": 2
}
